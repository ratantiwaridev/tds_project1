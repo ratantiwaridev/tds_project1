{
 "cells": [
  {
   "cell_type": "markdown",
   "metadata": {
    "id": "OGIEAYPhELkO"
   },
   "source": [
    "Importing libraries"
   ]
  },
  {
   "cell_type": "code",
   "execution_count": null,
   "metadata": {
    "id": "MwoWpJplOdIc"
   },
   "outputs": [],
   "source": [
    "import requests\n",
    "import csv\n",
    "import time"
   ]
  },
  {
   "cell_type": "markdown",
   "metadata": {
    "id": "H0GByjqSEQjs"
   },
   "source": [
    "API access token"
   ]
  },
  {
   "cell_type": "code",
   "execution_count": null,
   "metadata": {
    "id": "jT6xjfsOO9R4"
   },
   "outputs": [],
   "source": [
    "GITHUB_TOKEN = 'token_removed_after_github_raised_concerns'\n",
    "headers = {\"Authorization\": f\"token {GITHUB_TOKEN}\"}"
   ]
  },
  {
   "cell_type": "markdown",
   "metadata": {
    "id": "Lo80v83PFRIM"
   },
   "source": [
    "Fetch Users data"
   ]
  },
  {
   "cell_type": "code",
   "execution_count": null,
   "metadata": {
    "id": "8S-mjRmkO-GU"
   },
   "outputs": [],
   "source": [
    "def fetch_detailed_user_data(username):\n",
    "    \"\"\"Fetch detailed data.\"\"\"\n",
    "    url = f\"https://api.github.com/users/{username}\"\n",
    "    response = requests.get(url, headers=headers)\n",
    "    if response.status_code == 200:\n",
    "        return response.json()\n",
    "    else:\n",
    "        print(f\"Error fetching details for {username}: {response.status_code}\")\n",
    "        return None\n",
    "\n",
    "def fetch_users(city='Delhi', min_followers=100):\n",
    "    users = []\n",
    "    query = f\"location:{city} followers:>{min_followers}\"\n",
    "    url = f\"https://api.github.com/search/users?q={query}&per_page=100\"\n",
    "    page = 1\n",
    "\n",
    "    while True:\n",
    "        response = requests.get(url + f\"&page={page}\", headers=headers)\n",
    "        if response.status_code != 200:\n",
    "            print(f\"Error: {response.status_code} - {response.text}\")\n",
    "            break\n",
    "\n",
    "        data = response.json().get('items', [])\n",
    "        if not data:\n",
    "            print(\"No more users found.\")\n",
    "            break\n",
    "\n",
    "        for user in data:\n",
    "            detailed_user = fetch_detailed_user_data(user[\"login\"])\n",
    "            if detailed_user:\n",
    "                users.append(detailed_user)\n",
    "            time.sleep(1)\n",
    "\n",
    "        page += 1\n",
    "        time.sleep(1)\n",
    "\n",
    "    print(f\"Total users fetched: {len(users)}\")\n",
    "    return users\n",
    "\n",
    "users_data = fetch_users()"
   ]
  },
  {
   "cell_type": "markdown",
   "metadata": {
    "id": "mZ5BS1LEEbzQ"
   },
   "source": [
    "Clean data"
   ]
  },
  {
   "cell_type": "code",
   "execution_count": null,
   "metadata": {
    "id": "ImdpvmOSPN6c"
   },
   "outputs": [],
   "source": [
    "def clean_company_name(company_name):\n",
    "    if company_name:\n",
    "        company_name = company_name.strip()\n",
    "        if company_name.startswith('@'):\n",
    "            company_name = company_name[1:]\n",
    "        return company_name.upper()\n",
    "    return \"\"\n"
   ]
  },
  {
   "cell_type": "markdown",
   "metadata": {
    "id": "AXWdu9EjEemC"
   },
   "source": [
    "write user data"
   ]
  },
  {
   "cell_type": "code",
   "execution_count": null,
   "metadata": {
    "id": "qNGVTyAjD24R"
   },
   "outputs": [],
   "source": [
    "def write_users_csv(users):\n",
    "    with open('users.csv', mode='w', newline='', encoding='utf-8') as file:\n",
    "        writer = csv.writer(file)\n",
    "        writer.writerow([\n",
    "            \"login\", \"name\", \"company\", \"location\", \"email\",\n",
    "            \"hireable\", \"bio\", \"public_repos\", \"followers\",\n",
    "            \"following\", \"created_at\"\n",
    "        ])\n",
    "\n",
    "        for user in users:\n",
    "            login = user.get(\"login\", \"\")\n",
    "            name = user.get(\"name\", \"\")\n",
    "            company = clean_company_name(user.get(\"company\", \"\"))\n",
    "            location = user.get(\"location\", \"\")\n",
    "            email = user.get(\"email\", \"\")\n",
    "            hireable = user.get(\"hireable\", False)\n",
    "            bio = user.get(\"bio\", \"\")\n",
    "            public_repos = user.get(\"public_repos\", 0)\n",
    "            followers = user.get(\"followers\", 0)\n",
    "            following = user.get(\"following\", 0)\n",
    "            created_at = user.get(\"created_at\", \"\")\n",
    "\n",
    "            print(f\"Writing user: {login}, Name: {name}, Company: {company}\")\n",
    "\n",
    "            writer.writerow([\n",
    "                login, name, company, location, email, hireable,\n",
    "                bio, public_repos, followers, following, created_at\n",
    "            ])\n",
    "\n",
    "write_users_csv(users_data)\n"
   ]
  },
  {
   "cell_type": "markdown",
   "metadata": {
    "id": "HhxxCGwwEho_"
   },
   "source": [
    "fetch repository data"
   ]
  },
  {
   "cell_type": "code",
   "execution_count": null,
   "metadata": {
    "id": "YM3_WJHpD8UH"
   },
   "outputs": [],
   "source": [
    "def fetch_user_repos(username):\n",
    "    repos = []\n",
    "    url = f\"https://api.github.com/users/{username}/repos?per_page=100\"\n",
    "    page = 1\n",
    "\n",
    "    while True:\n",
    "        response = requests.get(url + f\"&page={page}\", headers=headers)\n",
    "        if response.status_code != 200:\n",
    "            print(f\"Error fetching repos for {username}: {response.status_code}\")\n",
    "            break\n",
    "\n",
    "        data = response.json()\n",
    "        if not data:\n",
    "            break\n",
    "\n",
    "        repos.extend(data)\n",
    "        if len(data) < 100:  #no more pages\n",
    "            break\n",
    "        page += 1\n",
    "        time.sleep(1)\n",
    "\n",
    "    return repos[:500]  # max 500 repos\n",
    "\n",
    "user_repos_data = {user[\"login\"]: fetch_user_repos(user[\"login\"]) for user in users_data}\n"
   ]
  },
  {
   "cell_type": "markdown",
   "metadata": {
    "id": "QjhPXhzIElFr"
   },
   "source": [
    "write repository data"
   ]
  },
  {
   "cell_type": "code",
   "execution_count": null,
   "metadata": {
    "id": "LNYeB6vHECyg"
   },
   "outputs": [],
   "source": [
    "def write_repos_csv(user_repos):\n",
    "    with open('repositories.csv', mode='w', newline='', encoding='utf-8') as file:\n",
    "        writer = csv.writer(file)\n",
    "        writer.writerow([\n",
    "            \"login\", \"full_name\", \"created_at\", \"stargazers_count\",\n",
    "            \"watchers_count\", \"language\", \"has_projects\", \"has_wiki\",\n",
    "            \"license_name\"\n",
    "        ])\n",
    "\n",
    "        for login, repos in user_repos.items():\n",
    "            for repo in repos:\n",
    "                full_name = repo.get(\"full_name\", \"\")\n",
    "                created_at = repo.get(\"created_at\", \"\")\n",
    "                stargazers_count = repo.get(\"stargazers_count\", \"\")\n",
    "                watchers_count = repo.get(\"watchers_count\", \"\")\n",
    "                language = repo.get(\"language\", \"\")\n",
    "                has_projects = repo.get(\"has_projects\", False)\n",
    "                has_wiki = repo.get(\"has_wiki\", False)\n",
    "\n",
    "                # None for license info\n",
    "                license_info = repo.get(\"license\")\n",
    "                license_name = license_info[\"key\"] if license_info else \"\"\n",
    "\n",
    "                writer.writerow([\n",
    "                    login, full_name, created_at, stargazers_count,\n",
    "                    watchers_count, language, has_projects, has_wiki, license_name\n",
    "                ])\n",
    "\n",
    "write_repos_csv(user_repos_data)\n"
   ]
  }
 ],
 "metadata": {
  "colab": {
   "authorship_tag": "ABX9TyOk52ctvtGAUGjLIoztWxyF",
   "provenance": []
  },
  "kernelspec": {
   "display_name": "Python 3",
   "name": "python3"
  },
  "language_info": {
   "name": "python"
  }
 },
 "nbformat": 4,
 "nbformat_minor": 0
}
